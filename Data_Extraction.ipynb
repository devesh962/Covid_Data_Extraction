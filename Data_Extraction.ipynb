{
  "nbformat": 4,
  "nbformat_minor": 0,
  "metadata": {
    "colab": {
      "name": "Task_1.ipynb",
      "provenance": [],
      "collapsed_sections": [],
      "authorship_tag": "ABX9TyMI1UGOv+DN3dkFqBEUPGMh",
      "include_colab_link": true
    },
    "kernelspec": {
      "name": "python3",
      "display_name": "Python 3"
    }
  },
  "cells": [
    {
      "cell_type": "markdown",
      "metadata": {
        "id": "view-in-github",
        "colab_type": "text"
      },
      "source": [
        "<a href=\"https://colab.research.google.com/github/devesh962/Covid_Data_Extraction/blob/master/Data_Extraction.ipynb\" target=\"_parent\"><img src=\"https://colab.research.google.com/assets/colab-badge.svg\" alt=\"Open In Colab\"/></a>"
      ]
    },
    {
      "cell_type": "code",
      "metadata": {
        "id": "G_qKyg9CkMrU",
        "colab_type": "code",
        "colab": {
          "base_uri": "https://localhost:8080/",
          "height": 207
        },
        "outputId": "7a280137-f289-48d3-dfdd-0935bb763257"
      },
      "source": [
        "!pip install PyPDF2"
      ],
      "execution_count": null,
      "outputs": [
        {
          "output_type": "stream",
          "text": [
            "Collecting PyPDF2\n",
            "\u001b[?25l  Downloading https://files.pythonhosted.org/packages/b4/01/68fcc0d43daf4c6bdbc6b33cc3f77bda531c86b174cac56ef0ffdb96faab/PyPDF2-1.26.0.tar.gz (77kB)\n",
            "\r\u001b[K     |████▎                           | 10kB 19.3MB/s eta 0:00:01\r\u001b[K     |████████▌                       | 20kB 1.7MB/s eta 0:00:01\r\u001b[K     |████████████▊                   | 30kB 2.6MB/s eta 0:00:01\r\u001b[K     |█████████████████               | 40kB 1.7MB/s eta 0:00:01\r\u001b[K     |█████████████████████▏          | 51kB 2.1MB/s eta 0:00:01\r\u001b[K     |█████████████████████████▍      | 61kB 2.5MB/s eta 0:00:01\r\u001b[K     |█████████████████████████████▋  | 71kB 2.9MB/s eta 0:00:01\r\u001b[K     |████████████████████████████████| 81kB 2.5MB/s \n",
            "\u001b[?25hBuilding wheels for collected packages: PyPDF2\n",
            "  Building wheel for PyPDF2 (setup.py) ... \u001b[?25l\u001b[?25hdone\n",
            "  Created wheel for PyPDF2: filename=PyPDF2-1.26.0-cp36-none-any.whl size=61086 sha256=2bc267a16e9e819df4c054482b2ac8c6aec041d697010d88932fd72ede75e0e2\n",
            "  Stored in directory: /root/.cache/pip/wheels/53/84/19/35bc977c8bf5f0c23a8a011aa958acd4da4bbd7a229315c1b7\n",
            "Successfully built PyPDF2\n",
            "Installing collected packages: PyPDF2\n",
            "Successfully installed PyPDF2-1.26.0\n"
          ],
          "name": "stdout"
        }
      ]
    },
    {
      "cell_type": "code",
      "metadata": {
        "id": "oW3nAjJCkWJT",
        "colab_type": "code",
        "colab": {}
      },
      "source": [
        "import PyPDF2 #to handle pdf files\n",
        "import os\n",
        "from os import listdir\n",
        "#nltk libraries to process the text\n",
        "import nltk\n",
        "from nltk.tokenize import word_tokenize\n",
        "from nltk.corpus import stopwords\n",
        "from nltk.stem import PorterStemmer\n",
        "nltk.download('punkt')\n",
        "nltk.download('stopwords')\n",
        "import csv\n",
        "from csv import writer"
      ],
      "execution_count": null,
      "outputs": []
    },
    {
      "cell_type": "code",
      "metadata": {
        "id": "_Q0ngOlWkjfc",
        "colab_type": "code",
        "colab": {}
      },
      "source": [
        "#assuming that there is a folder coivd-19 which contains all the reports in pdf format\n",
        "\n",
        "#to extract all the pdf files in a list\n",
        "def getAll():\n",
        "\n",
        "  #path of the folder where all pdf files are stored\n",
        "  path=\"/content/covid-19\"\n",
        "  arr = os.listdir(path)\n",
        "  \n",
        "  return arr"
      ],
      "execution_count": null,
      "outputs": []
    },
    {
      "cell_type": "code",
      "metadata": {
        "id": "j-_DkViQmRjd",
        "colab_type": "code",
        "colab": {}
      },
      "source": [
        "#preprocessing on the text obtained from pdf\n",
        "\n",
        "#removing the stop words, punctuations and converting all the text to lowercase\n",
        "def process_text(message, lower_case = True, stem = True, stop_words = True, gram = 2):\n",
        "    if lower_case:\n",
        "        message = message.lower()\n",
        "    words = word_tokenize(message)\n",
        "    words = [w for w in words if len(w) >= 2]\n",
        "    if gram > 1:\n",
        "        w = []\n",
        "        for i in range(len(words) - gram + 1):\n",
        "            w += [' '.join(words[i:i + gram])]\n",
        "        return w\n",
        "    if stop_words:\n",
        "        sw = stopwords.words('english')\n",
        "        words = [word for word in words if word not in sw]\n",
        "    if stem:\n",
        "        stemmer = PorterStemmer()\n",
        "        words = [stemmer.stem(word) for word in words]   \n",
        "    return words"
      ],
      "execution_count": null,
      "outputs": []
    },
    {
      "cell_type": "code",
      "metadata": {
        "id": "lNZC1Zm2T4dL",
        "colab_type": "code",
        "colab": {}
      },
      "source": [
        "#to extract the data from pdf file\n",
        "def extractData(arr):\n",
        "  path=\"/content/covid-19\"\n",
        "  for i in arr:\n",
        "    path2=os.path.join(path,i)\n",
        "    pdfFileObj = open(path2, 'rb')\n",
        "    pdfReader = PyPDF2.PdfFileReader(pdfFileObj)\n",
        "    #getting page indexed 0 if there are more than one page for loop can be used to iterate over all the pages\n",
        "    pageObj = pdfReader.getPage(0)\n",
        "    #extracting the text\n",
        "    Pdf_String=pageObj.extractText()\n",
        "    Pdf_String=Pdf_String.strip()\n",
        "    Pdf_String=Pdf_String.replace(\"\\n\",\"\")\n",
        "    #calling function processed_text to process the text obtained from pdf\n",
        "    processed_text=process_text(Pdf_String,gram=1,stem=False)\n",
        "    final=processed_text\n",
        "    row=[]\n",
        "    #searching particular keywords in the text to extract the desired data\n",
        "    #iterating a loop over all the text obtained from the pdf\n",
        "    i=0\n",
        "    while i<len(final):\n",
        "      if final[i]==\"status\":\n",
        "        if final[i+1]==\"update\":\n",
        "      \n",
        "          if i+4<len(final):\n",
        "            row.append(final[i+2:i+5])\n",
        "            i=i+4\n",
        "      elif final[i]==\"total\":\n",
        "        row.append(final[i+1])\n",
        "        i+=1\n",
        "      elif final[i]==\"individuals\":\n",
        "        if final[i+1]==\"confirmed\":\n",
        "          if final[i+2]==\"positive\":\n",
        "            row.append(final[i-1])\n",
        "      elif final[i]==\"samples\":\n",
        "        if final[i+1]==\"reported\":\n",
        "          row.append(final[i-1])\n",
        "      elif final[i]==\"reported\":\n",
        "        if final[i+2]==\"positive\":\n",
        "          row.append(final[i+1])\n",
        "          i+=2\n",
        "    \n",
        "      i+=1\n",
        "    data.append(row)\n",
        "  return data"
      ],
      "execution_count": null,
      "outputs": []
    },
    {
      "cell_type": "code",
      "metadata": {
        "id": "YlgJDfKzlC-5",
        "colab_type": "code",
        "colab": {}
      },
      "source": [
        "#to convert the format of date obtained from the pdf file\n",
        "from datetime import datetime"
      ],
      "execution_count": null,
      "outputs": []
    },
    {
      "cell_type": "code",
      "metadata": {
        "id": "7g9J1HAVX2jF",
        "colab_type": "code",
        "colab": {}
      },
      "source": [
        "# to process the data extracted from pdf file\n",
        "def process_data(data):\n",
        "  for i in range(len(data)):\n",
        "    data[i][0]=' '.join(data[i][0])\n",
        "    #converting the format of date\n",
        "    data[i][0]=datetime.strptime(data[i][0], '%d %B %Y').strftime('%Y/%m/%d')\n",
        "    for j in range(1,len(data[i])):\n",
        "      #removing all the stopwords if there in the data extracted\n",
        "      data[i][j]=data[i][j].replace(\",\",\"\")\n",
        "      data[i][j]=int(data[i][j])\n",
        "  return data"
      ],
      "execution_count": null,
      "outputs": []
    },
    {
      "cell_type": "code",
      "metadata": {
        "id": "CIRpJdE3tvnU",
        "colab_type": "code",
        "colab": {}
      },
      "source": [
        "#for appending the obtained data into csv file\n",
        "def append_list_as_row(file_name, list_of_elem,j):\n",
        "    # Open file in append mode\n",
        "    with open(file_name, 'a+', newline='') as write_obj:\n",
        "        if j==0:\n",
        "          #if first column is appended then first append the tag names\n",
        "          csv_writer = writer(write_obj)\n",
        "          csv_writer.writerow([\"Date\",\"total_samples_test\",\"total_positives\",\"sample_reported\",\"new_positives\"])\n",
        "\n",
        "        # Create a writer object from csv module\n",
        "        csv_writer = writer(write_obj)\n",
        "        # Add contents of list as last row in the csv file\n",
        "        csv_writer.writerow(list_of_elem)"
      ],
      "execution_count": null,
      "outputs": []
    },
    {
      "cell_type": "code",
      "metadata": {
        "id": "hOETbQfda3i3",
        "colab_type": "code",
        "colab": {}
      },
      "source": [
        "#to append data in csv file\n",
        "def append_csv(data):\n",
        "  path='/content/Covid-19.csv'\n",
        "  for j,i in enumerate(data):\n",
        "    append_list_as_row(path,i,j)\n"
      ],
      "execution_count": null,
      "outputs": []
    },
    {
      "cell_type": "code",
      "metadata": {
        "id": "uKdKGC31kjZ9",
        "colab_type": "code",
        "colab": {}
      },
      "source": [
        "#function calls\n",
        "\n",
        "arr=getAll() #extract path of all the pdf files\n",
        "data=[]\n",
        "data=extractData(arr) #extract the data from pdf files\n",
        "data=process_data(data) #process the data\n",
        "append_csv(data)         #append into csv file\n",
        "  \n",
        "\n",
        "#assuming we have a csv file Covid-19.csv uploaded on colab or else we can make a csv file and append data in it"
      ],
      "execution_count": null,
      "outputs": []
    }
  ]
}